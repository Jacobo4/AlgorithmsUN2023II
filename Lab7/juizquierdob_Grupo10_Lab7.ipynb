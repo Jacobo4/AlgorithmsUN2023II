{
  "nbformat": 4,
  "nbformat_minor": 0,
  "metadata": {
    "colab": {
      "provenance": []
    },
    "kernelspec": {
      "name": "python3",
      "display_name": "Python 3"
    },
    "language_info": {
      "name": "python"
    }
  },
  "cells": [
    {
      "cell_type": "markdown",
      "source": [
        "1. Find the best and worst cases for the Gale-Shapley and Irving ( An Efficient Algorithm for the “Stable Roommates” Problem) Algorithms and run in Colab these algorithms for those cases for n=4 and 40.\n",
        "Gale–Shapley algorithm simply explained – towardsdatascience\n",
        "Stable Marriage Problem – geeksforgeeks\n",
        "Stable matching, as a game – towardsdatascience.com"
      ],
      "metadata": {
        "id": "1HwAHxw7B_gs"
      }
    },
    {
      "cell_type": "markdown",
      "source": [
        "##Gale–Shapley algorithm"
      ],
      "metadata": {
        "id": "-pon9fIokqcW"
      }
    },
    {
      "cell_type": "code",
      "source": [
        "import random\n",
        "\n",
        "def generate_random_preferences(n):\n",
        "    men_preferences = []\n",
        "    women_preferences = []\n",
        "\n",
        "    for _ in range(n):\n",
        "        # Genera listas aleatorias de preferencias para hombres y mujeres\n",
        "        men_prefs = list(range(n))\n",
        "        random.shuffle(men_prefs)\n",
        "        men_preferences.append(men_prefs)\n",
        "\n",
        "        women_prefs = list(range(n))\n",
        "        random.shuffle(women_prefs)\n",
        "        women_preferences.append(women_prefs)\n",
        "\n",
        "    return men_preferences, women_preferences\n"
      ],
      "metadata": {
        "id": "YeSZJsxylZ63"
      },
      "execution_count": 1,
      "outputs": []
    },
    {
      "cell_type": "code",
      "execution_count": 2,
      "metadata": {
        "id": "vpe4Xuzlf1Yi"
      },
      "outputs": [],
      "source": [
        "def gale_shapley(men_preferences, women_preferences):\n",
        "    n = len(men_preferences)\n",
        "    engaged = [-1] * n  # Inicialmente, nadie está comprometido\n",
        "    men_proposals = [0] * n  # El número de propuestas que ha hecho cada hombre\n",
        "\n",
        "    while men_proposals.count(n) != n:  # Mientras haya hombres sin compromiso\n",
        "        for man in range(n):\n",
        "            if men_proposals[man] == n:\n",
        "                continue  # El hombre ya ha propuesto a todas las mujeres\n",
        "            woman = men_preferences[man][men_proposals[man]]\n",
        "            men_proposals[man] += 1\n",
        "\n",
        "            if engaged[woman] == -1:  # La mujer está libre\n",
        "                engaged[woman] = man\n",
        "            else:\n",
        "                current_man = engaged[woman]\n",
        "                if women_preferences[woman].index(man) < women_preferences[woman].index(current_man):\n",
        "                    engaged[woman] = man\n",
        "                    men_proposals[current_man] = n  # El hombre pierde su compromiso\n",
        "\n",
        "\n",
        "    return engaged\n"
      ]
    },
    {
      "cell_type": "code",
      "source": [
        "men_preferences1, women_preferences1 = generate_random_preferences(4)\n",
        "print(\"With n = 4\")\n",
        "result1 = gale_shapley(men_preferences1,women_preferences1)\n",
        "print(result1)\n",
        "\n",
        "men_preferences2, women_preferences2 = generate_random_preferences(40)\n",
        "result2 = gale_shapley(men_preferences2,women_preferences2)\n",
        "print(\"With n = 40\")\n",
        "print(result2)"
      ],
      "metadata": {
        "colab": {
          "base_uri": "https://localhost:8080/"
        },
        "id": "6uW_ZPjQGkjE",
        "outputId": "32e207e7-b2aa-4cc6-f777-2bd00dab8296"
      },
      "execution_count": 3,
      "outputs": [
        {
          "output_type": "stream",
          "name": "stdout",
          "text": [
            "With n = 4\n",
            "[1, 2, 2, 2]\n",
            "With n = 40\n",
            "[38, 0, 26, 9, 37, 28, 28, 38, 23, 8, 0, 28, 12, 22, 20, 38, 39, 9, 37, 5, 38, 38, 1, 1, 10, 15, 38, 38, 38, 37, 37, 11, 37, 38, 38, 30, 17, 39, 9, 0]\n"
          ]
        }
      ]
    },
    {
      "cell_type": "markdown",
      "source": [
        "2. Run the Gale-Shapley Algorithm 100 times using random permutations as preference lists for n=4 and 40. Find the minimum, maximum and average number of iterations and plot the distribution of the number of iterations."
      ],
      "metadata": {
        "id": "0izWwBfoCIiM"
      }
    },
    {
      "cell_type": "code",
      "source": [
        "import numpy as np\n",
        "import matplotlib.pyplot as plt\n",
        "\n",
        "def gale_shapley(men_preferences, women_preferences):\n",
        "    n = len(men_preferences)\n",
        "    engaged = [-1] * n  # Inicialmente, nadie está comprometido\n",
        "    men_proposals = [0] * n  # El número de propuestas que ha hecho cada hombre\n",
        "\n",
        "    iterations = []\n",
        "\n",
        "    while men_proposals.count(n) != n:  # Mientras haya hombres sin compromiso\n",
        "        for man in range(n):\n",
        "            if men_proposals[man] == n:\n",
        "                continue  # El hombre ya ha propuesto a todas las mujeres\n",
        "            woman = men_preferences[man][men_proposals[man]]\n",
        "            men_proposals[man] += 1\n",
        "\n",
        "            if engaged[woman] == -1:  # La mujer está libre\n",
        "                engaged[woman] = man\n",
        "            else:\n",
        "                current_man = engaged[woman]\n",
        "                if women_preferences[woman].index(man) < women_preferences[woman].index(current_man):\n",
        "                    engaged[woman] = man\n",
        "                    men_proposals[current_man] = n  # El hombre pierde su compromiso\n",
        "\n",
        "        iterations.append(men_proposals.count(n))\n",
        "\n",
        "    return iterations\n",
        "\n",
        "def run_experiment(n, num_trials):\n",
        "    all_iterations = []\n",
        "    min_iterations = float('inf')\n",
        "    max_iterations = 0\n",
        "    total_iterations = 0\n",
        "\n",
        "    for _ in range(num_trials):\n",
        "        men_pref = [np.random.permutation(n).tolist() for _ in range(n)]\n",
        "        women_pref = [np.random.permutation(n).tolist() for _ in range(n)]\n",
        "        iterations = gale_shapley(men_pref, women_pref)\n",
        "        all_iterations.extend(iterations)\n",
        "\n",
        "        min_iterations = min(min_iterations, min(iterations))\n",
        "        max_iterations = max(max_iterations, max(iterations))\n",
        "        total_iterations += sum(iterations)\n",
        "\n",
        "    avg_iterations = total_iterations / (n * num_trials)\n",
        "\n",
        "    return all_iterations, min_iterations, max_iterations, avg_iterations\n",
        "\n",
        "# For n=4\n",
        "n = 4\n",
        "num_trials = 100\n",
        "iterations_4, min_iter_4, max_iter_4, avg_iter_4 = run_experiment(n, num_trials)\n",
        "\n",
        "# For n=40\n",
        "n = 40\n",
        "iterations_40, min_iter_40, max_iter_40, avg_iter_40 = run_experiment(n, num_trials)\n",
        "\n",
        "# Results\n",
        "print(\"For n=4:\")\n",
        "print(f\"Minimum iterations: {min_iter_4}\")\n",
        "print(f\"Maximum iterations: {max_iter_4}\")\n",
        "print(f\"Average iterations: {avg_iter_4}\")\n",
        "\n",
        "print(\"\\nFor n=40:\")\n",
        "print(f\"Minimum iterations: {min_iter_40}\")\n",
        "print(f\"Maximum iterations: {max_iter_40}\")\n",
        "print(f\"Average iterations: {avg_iter_40}\")\n",
        "\n",
        "plt.figure(figsize=(12, 6))\n",
        "\n",
        "plt.subplot(1, 2, 1)\n",
        "plt.hist(iterations_4, bins='auto', alpha=0.7, color='skyblue')\n",
        "plt.title('Distribution of Iterations (n=4)')\n",
        "plt.xlabel('Iterations')\n",
        "plt.ylabel('Frequency')\n",
        "\n",
        "plt.subplot(1, 2, 2)\n",
        "plt.hist(iterations_40, bins='auto', alpha=0.7, color='salmon')\n",
        "plt.title('Distribution of Iterations (n=40)')\n",
        "plt.xlabel('Iterations')\n",
        "plt.ylabel('Frequency')\n",
        "\n",
        "plt.tight_layout()\n",
        "plt.show()\n"
      ],
      "metadata": {
        "colab": {
          "base_uri": "https://localhost:8080/",
          "height": 763
        },
        "id": "3NRGXybgCLdb",
        "outputId": "1047c9ea-0a70-47a1-faf5-a30f0031a526"
      },
      "execution_count": 4,
      "outputs": [
        {
          "output_type": "stream",
          "name": "stdout",
          "text": [
            "For n=4:\n",
            "Minimum iterations: 0\n",
            "Maximum iterations: 4\n",
            "Average iterations: 2.105\n",
            "\n",
            "For n=40:\n",
            "Minimum iterations: 2\n",
            "Maximum iterations: 40\n",
            "Average iterations: 34.27375\n"
          ]
        },
        {
          "output_type": "display_data",
          "data": {
            "text/plain": [
              "<Figure size 1200x600 with 2 Axes>"
            ],
            "image/png": "[encoded data removed]"
          },
          "metadata": {}
        }
      ]
    }
  ]
}